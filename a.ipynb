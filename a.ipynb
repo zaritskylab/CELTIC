{
 "cells": [
  {
   "cell_type": "code",
   "execution_count": 3,
   "metadata": {},
   "outputs": [
    {
     "name": "stdout",
     "output_type": "stream",
     "text": [
      "\u001b[33mWARNING: Skipping celtic as it is not installed.\u001b[0m\u001b[33m\n",
      "\u001b[0m"
     ]
    }
   ],
   "source": [
    "!pip uninstall -y celtic\n"
   ]
  },
  {
   "cell_type": "code",
   "execution_count": 6,
   "metadata": {},
   "outputs": [
    {
     "name": "stdout",
     "output_type": "stream",
     "text": [
      "\u001b[33mWARNING: Package(s) not found: CELTIC\u001b[0m\u001b[33m\n",
      "\u001b[0m"
     ]
    }
   ],
   "source": [
    "!pip show CELTIC"
   ]
  },
  {
   "cell_type": "code",
   "execution_count": 9,
   "metadata": {},
   "outputs": [
    {
     "name": "stdout",
     "output_type": "stream",
     "text": [
      "Obtaining file:///sise/home/elmalni/Research/CELTIC\n",
      "  Preparing metadata (setup.py) ... \u001b[?25ldone\n",
      "\u001b[?25hRequirement already satisfied: matplotlib>=3.5.3 in /sise/home/elmalni/.conda/envs/my_janelia/lib/python3.7/site-packages (from celtic==1.0.0) (3.5.3)\n",
      "Requirement already satisfied: pandas>=1.3.5 in /sise/home/elmalni/.conda/envs/my_janelia/lib/python3.7/site-packages (from celtic==1.0.0) (1.3.5)\n",
      "Requirement already satisfied: tifffile>=0.15.1 in /sise/home/elmalni/.conda/envs/my_janelia/lib/python3.7/site-packages (from celtic==1.0.0) (0.15.1)\n",
      "Requirement already satisfied: tqdm>=4.64.1 in /sise/home/elmalni/.conda/envs/my_janelia/lib/python3.7/site-packages (from celtic==1.0.0) (4.64.1)\n",
      "Requirement already satisfied: scikit-learn>=1.0.2 in /sise/home/elmalni/.conda/envs/my_janelia/lib/python3.7/site-packages (from celtic==1.0.0) (1.0.2)\n",
      "Requirement already satisfied: numpy>=1.21.5 in /sise/home/elmalni/.conda/envs/my_janelia/lib/python3.7/site-packages (from celtic==1.0.0) (1.21.5)\n",
      "Requirement already satisfied: opencv-python>=4.6.0.66 in /sise/home/elmalni/.conda/envs/my_janelia/lib/python3.7/site-packages (from celtic==1.0.0) (4.6.0.66)\n",
      "Requirement already satisfied: scipy>=1.5.4 in /sise/home/elmalni/.conda/envs/my_janelia/lib/python3.7/site-packages (from celtic==1.0.0) (1.5.4)\n",
      "Requirement already satisfied: torch<2,>=1.13.1 in /sise/home/elmalni/.conda/envs/my_janelia/lib/python3.7/site-packages (from celtic==1.0.0) (1.13.1)\n",
      "Requirement already satisfied: gdown in /sise/home/elmalni/.conda/envs/my_janelia/lib/python3.7/site-packages (from celtic==1.0.0) (4.7.3)\n",
      "Requirement already satisfied: kiwisolver>=1.0.1 in /sise/home/elmalni/.conda/envs/my_janelia/lib/python3.7/site-packages (from matplotlib>=3.5.3->celtic==1.0.0) (1.4.4)\n",
      "Requirement already satisfied: cycler>=0.10 in /sise/home/elmalni/.conda/envs/my_janelia/lib/python3.7/site-packages (from matplotlib>=3.5.3->celtic==1.0.0) (0.11.0)\n",
      "Requirement already satisfied: packaging>=20.0 in /sise/home/elmalni/.conda/envs/my_janelia/lib/python3.7/site-packages (from matplotlib>=3.5.3->celtic==1.0.0) (21.3)\n",
      "Requirement already satisfied: pillow>=6.2.0 in /sise/home/elmalni/.conda/envs/my_janelia/lib/python3.7/site-packages (from matplotlib>=3.5.3->celtic==1.0.0) (9.3.0)\n",
      "Requirement already satisfied: pyparsing>=2.2.1 in /sise/home/elmalni/.conda/envs/my_janelia/lib/python3.7/site-packages (from matplotlib>=3.5.3->celtic==1.0.0) (3.0.9)\n",
      "Requirement already satisfied: fonttools>=4.22.0 in /sise/home/elmalni/.conda/envs/my_janelia/lib/python3.7/site-packages (from matplotlib>=3.5.3->celtic==1.0.0) (4.38.0)\n",
      "Requirement already satisfied: python-dateutil>=2.7 in /sise/home/elmalni/.conda/envs/my_janelia/lib/python3.7/site-packages (from matplotlib>=3.5.3->celtic==1.0.0) (2.8.2)\n",
      "Requirement already satisfied: pytz>=2017.3 in /sise/home/elmalni/.conda/envs/my_janelia/lib/python3.7/site-packages (from pandas>=1.3.5->celtic==1.0.0) (2022.6)\n",
      "Requirement already satisfied: threadpoolctl>=2.0.0 in /sise/home/elmalni/.conda/envs/my_janelia/lib/python3.7/site-packages (from scikit-learn>=1.0.2->celtic==1.0.0) (3.1.0)\n",
      "Requirement already satisfied: joblib>=0.11 in /sise/home/elmalni/.conda/envs/my_janelia/lib/python3.7/site-packages (from scikit-learn>=1.0.2->celtic==1.0.0) (1.2.0)\n",
      "Requirement already satisfied: nvidia-cudnn-cu11==8.5.0.96 in /sise/home/elmalni/.conda/envs/my_janelia/lib/python3.7/site-packages (from torch<2,>=1.13.1->celtic==1.0.0) (8.5.0.96)\n",
      "Requirement already satisfied: nvidia-cublas-cu11==11.10.3.66 in /sise/home/elmalni/.conda/envs/my_janelia/lib/python3.7/site-packages (from torch<2,>=1.13.1->celtic==1.0.0) (11.10.3.66)\n",
      "Requirement already satisfied: nvidia-cuda-nvrtc-cu11==11.7.99 in /sise/home/elmalni/.conda/envs/my_janelia/lib/python3.7/site-packages (from torch<2,>=1.13.1->celtic==1.0.0) (11.7.99)\n",
      "Requirement already satisfied: typing-extensions in /sise/home/elmalni/.conda/envs/my_janelia/lib/python3.7/site-packages (from torch<2,>=1.13.1->celtic==1.0.0) (4.4.0)\n",
      "Requirement already satisfied: nvidia-cuda-runtime-cu11==11.7.99 in /sise/home/elmalni/.conda/envs/my_janelia/lib/python3.7/site-packages (from torch<2,>=1.13.1->celtic==1.0.0) (11.7.99)\n",
      "Requirement already satisfied: wheel in /sise/home/elmalni/.conda/envs/my_janelia/lib/python3.7/site-packages (from nvidia-cublas-cu11==11.10.3.66->torch<2,>=1.13.1->celtic==1.0.0) (0.37.1)\n",
      "Requirement already satisfied: setuptools in /sise/home/elmalni/.conda/envs/my_janelia/lib/python3.7/site-packages (from nvidia-cublas-cu11==11.10.3.66->torch<2,>=1.13.1->celtic==1.0.0) (65.5.0)\n",
      "Requirement already satisfied: six in /sise/home/elmalni/.conda/envs/my_janelia/lib/python3.7/site-packages (from gdown->celtic==1.0.0) (1.16.0)\n",
      "Requirement already satisfied: beautifulsoup4 in /sise/home/elmalni/.conda/envs/my_janelia/lib/python3.7/site-packages (from gdown->celtic==1.0.0) (4.11.1)\n",
      "Requirement already satisfied: requests[socks] in /sise/home/elmalni/.conda/envs/my_janelia/lib/python3.7/site-packages (from gdown->celtic==1.0.0) (2.28.1)\n",
      "Requirement already satisfied: filelock in /sise/home/elmalni/.conda/envs/my_janelia/lib/python3.7/site-packages (from gdown->celtic==1.0.0) (3.12.2)\n",
      "Requirement already satisfied: soupsieve>1.2 in /sise/home/elmalni/.conda/envs/my_janelia/lib/python3.7/site-packages (from beautifulsoup4->gdown->celtic==1.0.0) (2.3.2.post1)\n",
      "Requirement already satisfied: certifi>=2017.4.17 in /sise/home/elmalni/.conda/envs/my_janelia/lib/python3.7/site-packages (from requests[socks]->gdown->celtic==1.0.0) (2023.5.7)\n",
      "Requirement already satisfied: urllib3<1.27,>=1.21.1 in /sise/home/elmalni/.conda/envs/my_janelia/lib/python3.7/site-packages (from requests[socks]->gdown->celtic==1.0.0) (1.26.11)\n",
      "Requirement already satisfied: charset-normalizer<3,>=2 in /sise/home/elmalni/.conda/envs/my_janelia/lib/python3.7/site-packages (from requests[socks]->gdown->celtic==1.0.0) (2.1.1)\n",
      "Requirement already satisfied: idna<4,>=2.5 in /sise/home/elmalni/.conda/envs/my_janelia/lib/python3.7/site-packages (from requests[socks]->gdown->celtic==1.0.0) (3.4)\n",
      "Requirement already satisfied: PySocks!=1.5.7,>=1.5.6 in /sise/home/elmalni/.conda/envs/my_janelia/lib/python3.7/site-packages (from requests[socks]->gdown->celtic==1.0.0) (1.7.1)\n",
      "Installing collected packages: celtic\n",
      "  Attempting uninstall: celtic\n",
      "    Found existing installation: celtic 1.0.0\n",
      "    Uninstalling celtic-1.0.0:\n",
      "      Successfully uninstalled celtic-1.0.0\n",
      "  Running setup.py develop for celtic\n",
      "Successfully installed celtic-1.0.0\n"
     ]
    }
   ],
   "source": [
    "!pip install -e . "
   ]
  }
 ],
 "metadata": {
  "kernelspec": {
   "display_name": "my_janelia",
   "language": "python",
   "name": "python3"
  },
  "language_info": {
   "codemirror_mode": {
    "name": "ipython",
    "version": 3
   },
   "file_extension": ".py",
   "mimetype": "text/x-python",
   "name": "python",
   "nbconvert_exporter": "python",
   "pygments_lexer": "ipython3",
   "version": "3.7.12"
  }
 },
 "nbformat": 4,
 "nbformat_minor": 2
}
